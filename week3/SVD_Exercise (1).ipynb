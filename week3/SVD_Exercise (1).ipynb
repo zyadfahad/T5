{
  "nbformat": 4,
  "nbformat_minor": 0,
  "metadata": {
    "colab": {
      "provenance": []
    },
    "kernelspec": {
      "name": "python3",
      "display_name": "Python 3"
    },
    "language_info": {
      "name": "python"
    }
  },
  "cells": [
    {
      "cell_type": "markdown",
      "source": [
        "#**SVD**"
      ],
      "metadata": {
        "id": "0PzxgQHw9ccz"
      }
    },
    {
      "cell_type": "markdown",
      "source": [
        "#import libraries"
      ],
      "metadata": {
        "id": "luFPiQ2i9myX"
      }
    },
    {
      "cell_type": "code",
      "execution_count": 4,
      "metadata": {
        "id": "G-4zglvy9WkS"
      },
      "outputs": [],
      "source": [
        "import numpy as np"
      ]
    },
    {
      "cell_type": "markdown",
      "source": [
        "#Load the tabular dataset :\n",
        "\n",
        "dataset :\n",
        "\n",
        "\n",
        "    [1, 2, 1, 0, 4],\n",
        "\n",
        "    [2, 3, 4, 0, 2],\n",
        "\n",
        "    [3, 1, 1, 0, 5],\n",
        "\n",
        "    [4, 0, 2, 5, 0],\n",
        "\n",
        "    [5, 4, 0, 1, 2]\n"
      ],
      "metadata": {
        "id": "nZFDaio79sgu"
      }
    },
    {
      "cell_type": "code",
      "source": [
        "dataset = np.array([[1, 2, 1, 0, 4],\n",
        "\n",
        "[2, 3, 4, 0, 2],\n",
        "\n",
        "[3, 1, 1, 0, 5],\n",
        "\n",
        "[4, 0, 2, 5, 0],\n",
        "\n",
        "[5, 4, 0, 1, 2]])"
      ],
      "metadata": {
        "id": "MQ009CYG9qQS"
      },
      "execution_count": 5,
      "outputs": []
    },
    {
      "cell_type": "markdown",
      "source": [
        "#Perform Singular Value Decomposition (SVD)\n"
      ],
      "metadata": {
        "id": "2roOK1gZ9yQo"
      }
    },
    {
      "cell_type": "code",
      "source": [
        "U, s, VT = np.linalg.svd(dataset)"
      ],
      "metadata": {
        "id": "0I7M_W_E9vka"
      },
      "execution_count": 6,
      "outputs": []
    },
    {
      "cell_type": "markdown",
      "source": [
        "# Extract the singular values and vectors"
      ],
      "metadata": {
        "id": "5ygCLQNt96Vb"
      }
    },
    {
      "cell_type": "code",
      "source": [
        "singular_values = np.diag(s)\n",
        "left_singular_vectors = U\n",
        "right_singular_vectors = VT.T"
      ],
      "metadata": {
        "id": "d_hE13Sn94k5"
      },
      "execution_count": 7,
      "outputs": []
    },
    {
      "cell_type": "markdown",
      "source": [
        "# Perform dimensionality reduction by selecting top k singular values and vectors\n"
      ],
      "metadata": {
        "id": "piU0jgug9_gD"
      }
    },
    {
      "cell_type": "code",
      "source": [
        "k = 2\n",
        "reduced_dataset = np.dot(np.dot(left_singular_vectors[:, :k], singular_values[:k, :k]), right_singular_vectors[:, :k].T)\n"
      ],
      "metadata": {
        "id": "c55uNNCH9-5d"
      },
      "execution_count": 8,
      "outputs": []
    },
    {
      "cell_type": "markdown",
      "source": [
        "# Print the original and reduced datasets\n"
      ],
      "metadata": {
        "id": "4raXfdzz-Gex"
      }
    },
    {
      "cell_type": "code",
      "source": [
        "print(\"Original Dataset:\")\n",
        "print(dataset)\n",
        "print(\"\\nReduced Dataset:\")\n",
        "print(reduced_dataset)"
      ],
      "metadata": {
        "id": "c7YIIN3S-DTl",
        "colab": {
          "base_uri": "https://localhost:8080/"
        },
        "outputId": "391dcf18-0093-48a3-b185-ea17943e85b2"
      },
      "execution_count": 9,
      "outputs": [
        {
          "output_type": "stream",
          "name": "stdout",
          "text": [
            "Original Dataset:\n",
            "[[1 2 1 0 4]\n",
            " [2 3 4 0 2]\n",
            " [3 1 1 0 5]\n",
            " [4 0 2 5 0]\n",
            " [5 4 0 1 2]]\n",
            "\n",
            "Reduced Dataset:\n",
            "[[ 1.68517423  2.16823828  1.03211446 -0.78448115  3.35352314]\n",
            " [ 2.74997839  2.2474459   1.40223771  0.45592685  3.01586488]\n",
            " [ 2.65238506  2.68115204  1.46466169 -0.25083665  3.88603508]\n",
            " [ 4.38005462  0.72090701  1.60881922  4.57102627 -0.63704194]\n",
            " [ 4.0133692   2.54718625  1.88634605  1.65093492  3.00682541]]\n"
          ]
        }
      ]
    },
    {
      "cell_type": "markdown",
      "source": [
        "#**Well done :)**"
      ],
      "metadata": {
        "id": "ASLB0yos-Ofm"
      }
    }
  ]
}