{
  "nbformat": 4,
  "nbformat_minor": 0,
  "metadata": {
    "colab": {
      "provenance": []
    },
    "kernelspec": {
      "name": "python3",
      "display_name": "Python 3"
    },
    "language_info": {
      "name": "python"
    }
  },
  "cells": [
    {
      "cell_type": "markdown",
      "source": [
        "# **Forward Propagation**"
      ],
      "metadata": {
        "id": "d7Zr2TUm7ma1"
      }
    },
    {
      "cell_type": "markdown",
      "source": [
        "#Step 1 : import libraries"
      ],
      "metadata": {
        "id": "2ekenUWc7qGF"
      }
    },
    {
      "cell_type": "code",
      "execution_count": 12,
      "metadata": {
        "id": "cu0RHYxn7dHX"
      },
      "outputs": [],
      "source": [
        "import numpy as np\n",
        "import pandas as pd\n",
        "from sklearn.preprocessing import LabelEncoder"
      ]
    },
    {
      "cell_type": "markdown",
      "source": [
        "# Step 2 : Creating Dataset:\n",
        "###It creates a DataFrame df with columns ' num of cars', 'model of care', and ‘driver gender while 0 Woman and 1 MAN’."
      ],
      "metadata": {
        "id": "oS9BUiVS78wj"
      }
    },
    {
      "cell_type": "code",
      "source": [
        "# Creating a dataset\n",
        "df = pd.DataFrame({'num of cars': [1,2,3,4,5],\n",
        "                   'model of car': ['BMW','Mercides','KIA','Toyta','Honda'],\n",
        "                   'driver gender': [0,1,1,0,1]})"
      ],
      "metadata": {
        "id": "qaH3xp1w78cC"
      },
      "execution_count": 13,
      "outputs": []
    },
    {
      "cell_type": "code",
      "source": [
        "labelencoder = LabelEncoder()\n",
        "df['model of car'] = labelencoder.fit_transform(df['model of car'])\n"
      ],
      "metadata": {
        "id": "rHj7hh1COPb9"
      },
      "execution_count": 14,
      "outputs": []
    },
    {
      "cell_type": "markdown",
      "source": [
        "#Step 3 :Initialize Parameters Function (initialize_parameters):\n",
        "###This function initializes the weights W and biases b for each layer of the neural network. It returns a dictionary containing the initialized parameters."
      ],
      "metadata": {
        "id": "mmjNGOXi8Jf6"
      }
    },
    {
      "cell_type": "code",
      "source": [
        "# Initializing parameters\n",
        "def initialize_parameters(layer_dims):\n",
        "    np.random.seed(3)\n",
        "    parameters = {}\n",
        "    L = len(layer_dims)\n",
        "    for i in range(1, L):\n",
        "        parameters['W' + str(i)] = np.ones((layer_dims[i-1], layer_dims[i])) * 0.1\n",
        "        parameters['b' + str(i)] = np.zeros((layer_dims[i], 1))\n",
        "    return parameters\n"
      ],
      "metadata": {
        "id": "t6-0Di278GZj"
      },
      "execution_count": 15,
      "outputs": []
    },
    {
      "cell_type": "markdown",
      "source": [
        "#Step 4 : Forward Propagation Functions (linear_forward, L_layer_forward):\n",
        "### These functions perform the forward pass through the neural network. linear_forward computes the linear transformation 𝑍=𝑊𝑇⋅𝐴prev+𝑏, while **L_layer_forward** iterates through the layers, applying the linear transformation and activation function to compute the output of the network."
      ],
      "metadata": {
        "id": "YW7asuG_8Q9x"
      }
    },
    {
      "cell_type": "code",
      "source": [
        "# Forward propagation\n",
        "def linear_forward(A_prev, W, b):\n",
        "    Z = np.dot(W.T, A_prev) + b\n",
        "    return Z\n",
        "\n",
        "def relu(Z):\n",
        "    return np.maximum(0, Z)\n",
        "\n",
        "def L_layer_forward(X, parameters):\n",
        "    A = X\n",
        "    caches = []\n",
        "    L = len(parameters) // 2\n",
        "    for i in range(1, L):\n",
        "        A_prev = A\n",
        "        W = parameters['W' + str(i)]\n",
        "        b = parameters['b' + str(i)]\n",
        "        Z = linear_forward(A_prev, W, b)\n",
        "        A = relu(Z)\n",
        "        cache = (A_prev, W, b, Z)\n",
        "        caches.append(cache)\n",
        "\n",
        "    W_out = parameters['W' + str(L)]\n",
        "    b_out = parameters['b' + str(L)]\n",
        "    Z_out = linear_forward(A, W_out, b_out)\n",
        "    AL = Z_out\n",
        "\n",
        "    return AL, caches\n"
      ],
      "metadata": {
        "id": "4q5yykoz8Qh6"
      },
      "execution_count": 16,
      "outputs": []
    },
    {
      "cell_type": "markdown",
      "source": [
        "#Step 5 : Example Execution\n",
        "\n",
        "###It demonstrates an example execution of the forward pass for the first row of the dataset df, using the initialized parameters."
      ],
      "metadata": {
        "id": "c3stEx898-tG"
      }
    },
    {
      "cell_type": "code",
      "source": [
        "# Example execution\n",
        "X = df[['num of cars', 'model of car', 'driver gender']].values[0].reshape(3, 1)\n",
        "X = np.array(X, dtype=np.float32)\n",
        "parameters = initialize_parameters([3, 2, 1])\n",
        "y, caches = L_layer_forward(X, parameters)\n",
        "print(\"Final output:\")\n",
        "print(y)"
      ],
      "metadata": {
        "colab": {
          "base_uri": "https://localhost:8080/"
        },
        "id": "oA0cFFSO896Y",
        "outputId": "c60c9deb-94e6-47d4-e95b-549f50ac7321"
      },
      "execution_count": 18,
      "outputs": [
        {
          "output_type": "stream",
          "name": "stdout",
          "text": [
            "Final output:\n",
            "[[0.02]]\n"
          ]
        }
      ]
    },
    {
      "cell_type": "markdown",
      "source": [
        "#**Well Done :)**"
      ],
      "metadata": {
        "id": "ZWTnuk3x9SF6"
      }
    }
  ]
}