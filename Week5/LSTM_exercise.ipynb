{
  "cells": [
    {
      "cell_type": "markdown",
      "metadata": {
        "id": "DeDMU8rGJtM7"
      },
      "source": [
        "# **LSTM Exercise**"
      ]
    },
    {
      "cell_type": "markdown",
      "metadata": {
        "id": "73pucHkDJoyN"
      },
      "source": [
        "## Import libraries"
      ]
    },
    {
      "cell_type": "code",
      "execution_count": 1,
      "metadata": {
        "id": "W3AjCzdQJmSK"
      },
      "outputs": [],
      "source": [
        "import numpy as np\n",
        "import matplotlib.pyplot as plt\n",
        "import pandas as pd\n",
        "import tensorflow as tf\n",
        "from tensorflow.keras.models import Sequential\n",
        "from tensorflow.keras.layers import Dense\n",
        "from tensorflow.keras.layers import LSTM\n",
        "from sklearn.preprocessing import MinMaxScaler\n",
        "from sklearn.metrics import mean_squared_error"
      ]
    },
    {
      "cell_type": "markdown",
      "metadata": {
        "id": "91J8oMpJKYkO"
      },
      "source": [
        "## load the dataset\n",
        "### Dataset path : 5- Time series forecasting/2-2- Time Series Forecasting (LSTM and GRU)\n",
        "/ LAB/Dataset/traffic.csv\n"
      ]
    },
    {
      "cell_type": "code",
      "execution_count": 2,
      "metadata": {
        "id": "Cyx1SwgJJ8Y9"
      },
      "outputs": [],
      "source": [
        "dataframe = pd.read_csv('Datasets/traffic.csv', usecols=[2], engine='python')\n",
        "dataset = dataframe.values\n",
        "dataset = dataset.astype('float32')"
      ]
    },
    {
      "cell_type": "code",
      "execution_count": 3,
      "metadata": {},
      "outputs": [
        {
          "data": {
            "text/html": [
              "<div>\n",
              "<style scoped>\n",
              "    .dataframe tbody tr th:only-of-type {\n",
              "        vertical-align: middle;\n",
              "    }\n",
              "\n",
              "    .dataframe tbody tr th {\n",
              "        vertical-align: top;\n",
              "    }\n",
              "\n",
              "    .dataframe thead th {\n",
              "        text-align: right;\n",
              "    }\n",
              "</style>\n",
              "<table border=\"1\" class=\"dataframe\">\n",
              "  <thead>\n",
              "    <tr style=\"text-align: right;\">\n",
              "      <th></th>\n",
              "      <th>Vehicles</th>\n",
              "    </tr>\n",
              "  </thead>\n",
              "  <tbody>\n",
              "    <tr>\n",
              "      <th>0</th>\n",
              "      <td>15</td>\n",
              "    </tr>\n",
              "    <tr>\n",
              "      <th>1</th>\n",
              "      <td>13</td>\n",
              "    </tr>\n",
              "    <tr>\n",
              "      <th>2</th>\n",
              "      <td>10</td>\n",
              "    </tr>\n",
              "    <tr>\n",
              "      <th>3</th>\n",
              "      <td>7</td>\n",
              "    </tr>\n",
              "    <tr>\n",
              "      <th>4</th>\n",
              "      <td>9</td>\n",
              "    </tr>\n",
              "  </tbody>\n",
              "</table>\n",
              "</div>"
            ],
            "text/plain": [
              "   Vehicles\n",
              "0        15\n",
              "1        13\n",
              "2        10\n",
              "3         7\n",
              "4         9"
            ]
          },
          "execution_count": 3,
          "metadata": {},
          "output_type": "execute_result"
        }
      ],
      "source": [
        "dataframe.head()"
      ]
    },
    {
      "cell_type": "markdown",
      "metadata": {
        "id": "i7yyKGkVKi88"
      },
      "source": [
        "## Normalize the dataset"
      ]
    },
    {
      "cell_type": "code",
      "execution_count": 4,
      "metadata": {
        "id": "dacoPvqbKdpP"
      },
      "outputs": [],
      "source": [
        "scaler = MinMaxScaler(feature_range=(0, 1))\n",
        "dataset = scaler.fit_transform(dataset)"
      ]
    },
    {
      "cell_type": "code",
      "execution_count": 7,
      "metadata": {},
      "outputs": [
        {
          "data": {
            "text/plain": [
              "array([[0.07821228],\n",
              "       [0.0670391 ],\n",
              "       [0.05027933],\n",
              "       ...,\n",
              "       [0.08379888],\n",
              "       [0.11731843],\n",
              "       [0.06145251]], dtype=float32)"
            ]
          },
          "execution_count": 7,
          "metadata": {},
          "output_type": "execute_result"
        }
      ],
      "source": [
        "dataset"
      ]
    },
    {
      "cell_type": "markdown",
      "metadata": {
        "id": "GV-4d-zxKvJI"
      },
      "source": [
        "## split into train and test sets"
      ]
    },
    {
      "cell_type": "code",
      "execution_count": 8,
      "metadata": {
        "id": "4K7bNBFiKr_j"
      },
      "outputs": [
        {
          "name": "stdout",
          "output_type": "stream",
          "text": [
            "32240 15880\n"
          ]
        }
      ],
      "source": [
        "train_size = int(len(dataset) * 0.67)\n",
        "test_size = len(dataset) - train_size\n",
        "\n",
        "\n",
        "train, test = dataset[0:train_size,:], dataset[train_size:len(dataset),:]\n",
        "\n",
        "\n",
        "print(len(train), len(test))"
      ]
    },
    {
      "cell_type": "code",
      "execution_count": 9,
      "metadata": {},
      "outputs": [],
      "source": [
        "def create_dataset(dataset, look_back=1):\n",
        "    dataX, dataY = [], []\n",
        "    for i in range(len(dataset)-look_back-1):\n",
        "        a = dataset[i:(i+look_back), 0]  # Indent this line\n",
        "        dataX.append(a)\n",
        "        dataY.append(dataset[i + look_back, 0])\n",
        "    return np.array(dataX), np.array(dataY)"
      ]
    },
    {
      "cell_type": "code",
      "execution_count": 10,
      "metadata": {
        "id": "tKTnFm3lLcIj"
      },
      "outputs": [],
      "source": [
        "look_back = 1\n",
        "trainX, trainY = create_dataset(train, look_back)\n",
        "testX, testY = create_dataset(test, look_back)"
      ]
    },
    {
      "cell_type": "code",
      "execution_count": 11,
      "metadata": {},
      "outputs": [],
      "source": [
        "trainX = np.reshape(trainX, (trainX.shape[0], 1, trainX.shape[1]))\n",
        "testX = np.reshape(testX, (testX.shape[0], 1, testX.shape[1]))"
      ]
    },
    {
      "cell_type": "markdown",
      "metadata": {
        "id": "Enlx1TQhLcp5"
      },
      "source": [
        "## Fit the LSTM"
      ]
    },
    {
      "cell_type": "code",
      "execution_count": 13,
      "metadata": {},
      "outputs": [
        {
          "name": "stdout",
          "output_type": "stream",
          "text": [
            "Epoch 1/100\n",
            "1008/1008 - 3s - 3ms/step - loss: 0.0096\n",
            "Epoch 2/100\n",
            "1008/1008 - 1s - 1ms/step - loss: 7.2259e-04\n",
            "Epoch 3/100\n",
            "1008/1008 - 1s - 1ms/step - loss: 7.2404e-04\n",
            "Epoch 4/100\n",
            "1008/1008 - 1s - 1ms/step - loss: 7.2542e-04\n",
            "Epoch 5/100\n",
            "1008/1008 - 1s - 1ms/step - loss: 7.2401e-04\n",
            "Epoch 6/100\n",
            "1008/1008 - 1s - 1ms/step - loss: 7.2586e-04\n",
            "Epoch 7/100\n",
            "1008/1008 - 2s - 2ms/step - loss: 7.2479e-04\n",
            "Epoch 8/100\n",
            "1008/1008 - 1s - 1ms/step - loss: 7.2602e-04\n",
            "Epoch 9/100\n",
            "1008/1008 - 1s - 1ms/step - loss: 7.2716e-04\n",
            "Epoch 10/100\n",
            "1008/1008 - 1s - 1ms/step - loss: 7.2692e-04\n",
            "Epoch 11/100\n",
            "1008/1008 - 1s - 1ms/step - loss: 7.2622e-04\n",
            "Epoch 12/100\n",
            "1008/1008 - 1s - 1ms/step - loss: 7.2674e-04\n",
            "Epoch 13/100\n",
            "1008/1008 - 1s - 1ms/step - loss: 7.2505e-04\n",
            "Epoch 14/100\n",
            "1008/1008 - 1s - 1ms/step - loss: 7.2603e-04\n",
            "Epoch 15/100\n",
            "1008/1008 - 2s - 2ms/step - loss: 7.2597e-04\n",
            "Epoch 16/100\n",
            "1008/1008 - 1s - 1ms/step - loss: 7.2529e-04\n",
            "Epoch 17/100\n",
            "1008/1008 - 1s - 1ms/step - loss: 7.2536e-04\n",
            "Epoch 18/100\n",
            "1008/1008 - 1s - 1ms/step - loss: 7.2590e-04\n",
            "Epoch 19/100\n",
            "1008/1008 - 2s - 2ms/step - loss: 7.2554e-04\n",
            "Epoch 20/100\n",
            "1008/1008 - 1s - 1ms/step - loss: 7.2714e-04\n",
            "Epoch 21/100\n",
            "1008/1008 - 1s - 1ms/step - loss: 7.2664e-04\n",
            "Epoch 22/100\n",
            "1008/1008 - 2s - 2ms/step - loss: 7.2542e-04\n",
            "Epoch 23/100\n",
            "1008/1008 - 1s - 1ms/step - loss: 7.2549e-04\n",
            "Epoch 24/100\n",
            "1008/1008 - 1s - 1ms/step - loss: 7.2655e-04\n",
            "Epoch 25/100\n",
            "1008/1008 - 1s - 1ms/step - loss: 7.2587e-04\n",
            "Epoch 26/100\n",
            "1008/1008 - 1s - 1ms/step - loss: 7.2655e-04\n",
            "Epoch 27/100\n",
            "1008/1008 - 1s - 1ms/step - loss: 7.2519e-04\n",
            "Epoch 28/100\n",
            "1008/1008 - 1s - 1ms/step - loss: 7.2656e-04\n",
            "Epoch 29/100\n",
            "1008/1008 - 1s - 1ms/step - loss: 7.2515e-04\n",
            "Epoch 30/100\n",
            "1008/1008 - 3s - 3ms/step - loss: 7.2718e-04\n",
            "Epoch 31/100\n",
            "1008/1008 - 2s - 2ms/step - loss: 7.2472e-04\n",
            "Epoch 32/100\n",
            "1008/1008 - 2s - 1ms/step - loss: 7.2680e-04\n",
            "Epoch 33/100\n",
            "1008/1008 - 2s - 2ms/step - loss: 7.2499e-04\n",
            "Epoch 34/100\n",
            "1008/1008 - 2s - 2ms/step - loss: 7.2580e-04\n",
            "Epoch 35/100\n",
            "1008/1008 - 2s - 2ms/step - loss: 7.2665e-04\n",
            "Epoch 36/100\n",
            "1008/1008 - 1s - 1ms/step - loss: 7.2461e-04\n",
            "Epoch 37/100\n",
            "1008/1008 - 1s - 1ms/step - loss: 7.2533e-04\n",
            "Epoch 38/100\n",
            "1008/1008 - 2s - 2ms/step - loss: 7.2492e-04\n",
            "Epoch 39/100\n",
            "1008/1008 - 1s - 1ms/step - loss: 7.2467e-04\n",
            "Epoch 40/100\n",
            "1008/1008 - 1s - 1ms/step - loss: 7.2596e-04\n",
            "Epoch 41/100\n",
            "1008/1008 - 1s - 1ms/step - loss: 7.2442e-04\n",
            "Epoch 42/100\n",
            "1008/1008 - 1s - 1ms/step - loss: 7.2575e-04\n",
            "Epoch 43/100\n",
            "1008/1008 - 1s - 1ms/step - loss: 7.2521e-04\n",
            "Epoch 44/100\n",
            "1008/1008 - 2s - 2ms/step - loss: 7.2514e-04\n",
            "Epoch 45/100\n",
            "1008/1008 - 1s - 1ms/step - loss: 7.2554e-04\n",
            "Epoch 46/100\n",
            "1008/1008 - 2s - 2ms/step - loss: 7.2549e-04\n",
            "Epoch 47/100\n",
            "1008/1008 - 2s - 1ms/step - loss: 7.2689e-04\n",
            "Epoch 48/100\n",
            "1008/1008 - 1s - 1ms/step - loss: 7.2620e-04\n",
            "Epoch 49/100\n",
            "1008/1008 - 1s - 1ms/step - loss: 7.2595e-04\n",
            "Epoch 50/100\n",
            "1008/1008 - 1s - 1ms/step - loss: 7.2512e-04\n",
            "Epoch 51/100\n",
            "1008/1008 - 1s - 1ms/step - loss: 7.2596e-04\n",
            "Epoch 52/100\n",
            "1008/1008 - 1s - 1ms/step - loss: 7.2576e-04\n",
            "Epoch 53/100\n",
            "1008/1008 - 1s - 1ms/step - loss: 7.2505e-04\n",
            "Epoch 54/100\n",
            "1008/1008 - 1s - 1ms/step - loss: 7.2695e-04\n",
            "Epoch 55/100\n",
            "1008/1008 - 1s - 1ms/step - loss: 7.2549e-04\n",
            "Epoch 56/100\n",
            "1008/1008 - 1s - 1ms/step - loss: 7.2505e-04\n",
            "Epoch 57/100\n",
            "1008/1008 - 1s - 1ms/step - loss: 7.2698e-04\n",
            "Epoch 58/100\n",
            "1008/1008 - 1s - 1ms/step - loss: 7.2523e-04\n",
            "Epoch 59/100\n",
            "1008/1008 - 1s - 1ms/step - loss: 7.2485e-04\n",
            "Epoch 60/100\n",
            "1008/1008 - 1s - 1ms/step - loss: 7.2479e-04\n",
            "Epoch 61/100\n",
            "1008/1008 - 1s - 1ms/step - loss: 7.2722e-04\n",
            "Epoch 62/100\n",
            "1008/1008 - 1s - 1ms/step - loss: 7.2556e-04\n",
            "Epoch 63/100\n",
            "1008/1008 - 1s - 1ms/step - loss: 7.2568e-04\n",
            "Epoch 64/100\n",
            "1008/1008 - 1s - 1ms/step - loss: 7.2509e-04\n",
            "Epoch 65/100\n",
            "1008/1008 - 1s - 1ms/step - loss: 7.2539e-04\n",
            "Epoch 66/100\n",
            "1008/1008 - 3s - 3ms/step - loss: 7.2502e-04\n",
            "Epoch 67/100\n",
            "1008/1008 - 1s - 1ms/step - loss: 7.2678e-04\n",
            "Epoch 68/100\n",
            "1008/1008 - 1s - 1ms/step - loss: 7.2563e-04\n",
            "Epoch 69/100\n",
            "1008/1008 - 1s - 1ms/step - loss: 7.2633e-04\n",
            "Epoch 70/100\n",
            "1008/1008 - 1s - 1ms/step - loss: 7.2461e-04\n",
            "Epoch 71/100\n",
            "1008/1008 - 1s - 1ms/step - loss: 7.2464e-04\n",
            "Epoch 72/100\n",
            "1008/1008 - 1s - 1ms/step - loss: 7.2683e-04\n",
            "Epoch 73/100\n",
            "1008/1008 - 2s - 2ms/step - loss: 7.2579e-04\n",
            "Epoch 74/100\n",
            "1008/1008 - 1s - 1ms/step - loss: 7.2497e-04\n",
            "Epoch 75/100\n",
            "1008/1008 - 1s - 1ms/step - loss: 7.2577e-04\n",
            "Epoch 76/100\n",
            "1008/1008 - 2s - 1ms/step - loss: 7.2573e-04\n",
            "Epoch 77/100\n",
            "1008/1008 - 1s - 1ms/step - loss: 7.2545e-04\n",
            "Epoch 78/100\n",
            "1008/1008 - 1s - 1ms/step - loss: 7.2676e-04\n",
            "Epoch 79/100\n",
            "1008/1008 - 1s - 1ms/step - loss: 7.2532e-04\n",
            "Epoch 80/100\n",
            "1008/1008 - 1s - 1ms/step - loss: 7.2499e-04\n",
            "Epoch 81/100\n",
            "1008/1008 - 1s - 1ms/step - loss: 7.2408e-04\n",
            "Epoch 82/100\n",
            "1008/1008 - 1s - 1ms/step - loss: 7.2558e-04\n",
            "Epoch 83/100\n",
            "1008/1008 - 1s - 1ms/step - loss: 7.2611e-04\n",
            "Epoch 84/100\n",
            "1008/1008 - 1s - 1ms/step - loss: 7.2626e-04\n",
            "Epoch 85/100\n",
            "1008/1008 - 1s - 1ms/step - loss: 7.2578e-04\n",
            "Epoch 86/100\n",
            "1008/1008 - 1s - 1ms/step - loss: 7.2603e-04\n",
            "Epoch 87/100\n",
            "1008/1008 - 1s - 1ms/step - loss: 7.2586e-04\n",
            "Epoch 88/100\n",
            "1008/1008 - 1s - 1ms/step - loss: 7.2568e-04\n",
            "Epoch 89/100\n",
            "1008/1008 - 3s - 3ms/step - loss: 7.2557e-04\n",
            "Epoch 90/100\n",
            "1008/1008 - 1s - 1ms/step - loss: 7.2622e-04\n",
            "Epoch 91/100\n",
            "1008/1008 - 1s - 1ms/step - loss: 7.2438e-04\n",
            "Epoch 92/100\n",
            "1008/1008 - 1s - 1ms/step - loss: 7.2501e-04\n",
            "Epoch 93/100\n",
            "1008/1008 - 1s - 1ms/step - loss: 7.2568e-04\n",
            "Epoch 94/100\n",
            "1008/1008 - 1s - 1ms/step - loss: 7.2599e-04\n",
            "Epoch 95/100\n",
            "1008/1008 - 2s - 1ms/step - loss: 7.2603e-04\n",
            "Epoch 96/100\n",
            "1008/1008 - 3s - 3ms/step - loss: 7.2535e-04\n",
            "Epoch 97/100\n",
            "1008/1008 - 1s - 1ms/step - loss: 7.2494e-04\n",
            "Epoch 98/100\n",
            "1008/1008 - 1s - 1ms/step - loss: 7.2619e-04\n",
            "Epoch 99/100\n",
            "1008/1008 - 1s - 1ms/step - loss: 7.2639e-04\n",
            "Epoch 100/100\n",
            "1008/1008 - 1s - 1ms/step - loss: 7.2480e-04\n"
          ]
        },
        {
          "data": {
            "text/plain": [
              "<keras.src.callbacks.history.History at 0x1f8f7246750>"
            ]
          },
          "execution_count": 13,
          "metadata": {},
          "output_type": "execute_result"
        }
      ],
      "source": [
        "model = Sequential()\n",
        "model.add(LSTM(4, input_shape=(1, look_back)))\n",
        "model.add(Dense(1))\n",
        "model.compile(loss='mean_squared_error', optimizer='adam')\n",
        "\n",
        "\n",
        "model.fit(trainX, trainY, epochs=100, batch_size=32, verbose=2)"
      ]
    },
    {
      "cell_type": "markdown",
      "metadata": {
        "id": "NwP_TpFfL7nA"
      },
      "source": [
        "## Make preductuion and evaluatuin matrix."
      ]
    },
    {
      "cell_type": "code",
      "execution_count": 14,
      "metadata": {
        "id": "4lEgbNGULrbv"
      },
      "outputs": [
        {
          "name": "stdout",
          "output_type": "stream",
          "text": [
            "\u001b[1m1008/1008\u001b[0m \u001b[32m━━━━━━━━━━━━━━━━━━━━\u001b[0m\u001b[37m\u001b[0m \u001b[1m1s\u001b[0m 1ms/step\n",
            "\u001b[1m497/497\u001b[0m \u001b[32m━━━━━━━━━━━━━━━━━━━━\u001b[0m\u001b[37m\u001b[0m \u001b[1m1s\u001b[0m 1ms/step\n",
            "Train Score: 4.81 RMSE\n",
            "Test Score: 5.46 RMSE\n"
          ]
        }
      ],
      "source": [
        "# make predictions\n",
        "trainPredict = model.predict(trainX)\n",
        "testPredict = model.predict(testX)\n",
        "# invert predictions\n",
        "trainPredict = scaler.inverse_transform(trainPredict)\n",
        "trainY = scaler.inverse_transform([trainY])\n",
        "testPredict = scaler.inverse_transform(testPredict)\n",
        "testY = scaler.inverse_transform([testY])\n",
        "# calculate root mean squared error\n",
        "trainScore = np.sqrt(mean_squared_error(trainY[0], trainPredict[:,0]))\n",
        "print('Train Score: %.2f RMSE' % (trainScore))\n",
        "testScore = np.sqrt(mean_squared_error(testY[0], testPredict[:,0]))\n",
        "print('Test Score: %.2f RMSE' % (testScore))\n"
      ]
    },
    {
      "cell_type": "markdown",
      "metadata": {
        "id": "ZpkMef5uMULa"
      },
      "source": [
        "## Visualize the result"
      ]
    },
    {
      "cell_type": "code",
      "execution_count": 22,
      "metadata": {
        "id": "B1T1VicEMXC_"
      },
      "outputs": [
        {
          "data": {
            "image/png": "[encoded data removed]",
            "text/plain": [
              "<Figure size 640x480 with 1 Axes>"
            ]
          },
          "metadata": {},
          "output_type": "display_data"
        }
      ],
      "source": [
        "# shift train predictions for plotting\n",
        "trainPredictPlot = np.empty_like(dataset)\n",
        "trainPredictPlot[:, :] = np.nan\n",
        "trainPredictPlot[look_back:len(trainPredict)+look_back, :] = trainPredict\n",
        "\n",
        "\n",
        "# shift test predictions for plotting\n",
        "testPredictPlot = np.empty_like(dataset)\n",
        "testPredictPlot[:, :] = np.nan\n",
        "testPredictPlot[len(trainPredict)+(look_back*2)+1:len(dataset)-1, :] = testPredict\n",
        "\n",
        "\n",
        "# plot baseline and predictions\n",
        "plt.plot(scaler.inverse_transform(dataset))\n",
        "plt.plot(trainPredictPlot/2)\n",
        "plt.plot(testPredictPlot/2)\n",
        "plt.show()"
      ]
    },
    {
      "cell_type": "markdown",
      "metadata": {
        "id": "_80frLg-MENd"
      },
      "source": [
        "# **Well done** :)"
      ]
    }
  ],
  "metadata": {
    "colab": {
      "provenance": []
    },
    "kernelspec": {
      "display_name": "Python 3",
      "name": "python3"
    },
    "language_info": {
      "codemirror_mode": {
        "name": "ipython",
        "version": 3
      },
      "file_extension": ".py",
      "mimetype": "text/x-python",
      "name": "python",
      "nbconvert_exporter": "python",
      "pygments_lexer": "ipython3",
      "version": "3.12.4"
    }
  },
  "nbformat": 4,
  "nbformat_minor": 0
}
