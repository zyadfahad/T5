{
  "cells": [
    {
      "cell_type": "markdown",
      "metadata": {
        "id": "JaxjdikNnjkf"
      },
      "source": [
        "#**Parameter Analysis for the ARIMA model**"
      ]
    },
    {
      "cell_type": "markdown",
      "metadata": {
        "id": "Bcg9HjA6npWd"
      },
      "source": [
        "## Import the library\n"
      ]
    },
    {
      "cell_type": "code",
      "execution_count": 1,
      "metadata": {
        "colab": {
          "base_uri": "https://localhost:8080/"
        },
        "id": "5c6uJIkGncuk",
        "outputId": "01d4930f-8b7b-4398-f411-e08f82b1d447"
      },
      "outputs": [
        {
          "output_type": "stream",
          "name": "stdout",
          "text": [
            "Requirement already satisfied: pmdarima in /usr/local/lib/python3.10/dist-packages (2.0.4)\n",
            "Requirement already satisfied: joblib>=0.11 in /usr/local/lib/python3.10/dist-packages (from pmdarima) (1.4.2)\n",
            "Requirement already satisfied: Cython!=0.29.18,!=0.29.31,>=0.29 in /usr/local/lib/python3.10/dist-packages (from pmdarima) (3.0.11)\n",
            "Requirement already satisfied: numpy>=1.21.2 in /usr/local/lib/python3.10/dist-packages (from pmdarima) (1.26.4)\n",
            "Requirement already satisfied: pandas>=0.19 in /usr/local/lib/python3.10/dist-packages (from pmdarima) (2.1.4)\n",
            "Requirement already satisfied: scikit-learn>=0.22 in /usr/local/lib/python3.10/dist-packages (from pmdarima) (1.3.2)\n",
            "Requirement already satisfied: scipy>=1.3.2 in /usr/local/lib/python3.10/dist-packages (from pmdarima) (1.13.1)\n",
            "Requirement already satisfied: statsmodels>=0.13.2 in /usr/local/lib/python3.10/dist-packages (from pmdarima) (0.14.2)\n",
            "Requirement already satisfied: urllib3 in /usr/local/lib/python3.10/dist-packages (from pmdarima) (2.0.7)\n",
            "Requirement already satisfied: setuptools!=50.0.0,>=38.6.0 in /usr/local/lib/python3.10/dist-packages (from pmdarima) (71.0.4)\n",
            "Requirement already satisfied: packaging>=17.1 in /usr/local/lib/python3.10/dist-packages (from pmdarima) (24.1)\n",
            "Requirement already satisfied: python-dateutil>=2.8.2 in /usr/local/lib/python3.10/dist-packages (from pandas>=0.19->pmdarima) (2.8.2)\n",
            "Requirement already satisfied: pytz>=2020.1 in /usr/local/lib/python3.10/dist-packages (from pandas>=0.19->pmdarima) (2024.1)\n",
            "Requirement already satisfied: tzdata>=2022.1 in /usr/local/lib/python3.10/dist-packages (from pandas>=0.19->pmdarima) (2024.1)\n",
            "Requirement already satisfied: threadpoolctl>=2.0.0 in /usr/local/lib/python3.10/dist-packages (from scikit-learn>=0.22->pmdarima) (3.5.0)\n",
            "Requirement already satisfied: patsy>=0.5.6 in /usr/local/lib/python3.10/dist-packages (from statsmodels>=0.13.2->pmdarima) (0.5.6)\n",
            "Requirement already satisfied: six in /usr/local/lib/python3.10/dist-packages (from patsy>=0.5.6->statsmodels>=0.13.2->pmdarima) (1.16.0)\n"
          ]
        }
      ],
      "source": [
        "# To install the library\n",
        "!pip install pmdarima\n",
        "\n",
        "# Import the library\n",
        "from pmdarima import auto_arima\n",
        "import pandas as pd\n",
        "\n",
        "\n",
        "# Ignore harmless warnings\n",
        "import warnings\n",
        "warnings.filterwarnings(\"ignore\")\n"
      ]
    },
    {
      "cell_type": "markdown",
      "metadata": {
        "id": "d4pFa8pkoErL"
      },
      "source": [
        "## Read dataset"
      ]
    },
    {
      "cell_type": "code",
      "execution_count": 2,
      "metadata": {
        "id": "7nA5jLRHoFCP"
      },
      "outputs": [],
      "source": [
        "df = pd.read_csv('traffic.csv')"
      ]
    },
    {
      "cell_type": "code",
      "source": [
        "df.shape"
      ],
      "metadata": {
        "colab": {
          "base_uri": "https://localhost:8080/"
        },
        "id": "QDnbZIC1X8hF",
        "outputId": "6d3398ac-b704-42ad-a0b6-66513ed5adbf"
      },
      "execution_count": 3,
      "outputs": [
        {
          "output_type": "execute_result",
          "data": {
            "text/plain": [
              "(48120, 4)"
            ]
          },
          "metadata": {},
          "execution_count": 3
        }
      ]
    },
    {
      "cell_type": "code",
      "source": [
        "df = df.iloc[:1000]"
      ],
      "metadata": {
        "id": "eik0vEItYLqs"
      },
      "execution_count": 4,
      "outputs": []
    },
    {
      "cell_type": "code",
      "source": [
        "df.shape"
      ],
      "metadata": {
        "colab": {
          "base_uri": "https://localhost:8080/"
        },
        "id": "SKg6ZUQdYNS4",
        "outputId": "7f5f6edb-b713-48d2-8506-ae745087d1a1"
      },
      "execution_count": 5,
      "outputs": [
        {
          "output_type": "execute_result",
          "data": {
            "text/plain": [
              "(1000, 4)"
            ]
          },
          "metadata": {},
          "execution_count": 5
        }
      ]
    },
    {
      "cell_type": "markdown",
      "metadata": {
        "id": "-tuW0NLNnway"
      },
      "source": [
        "## Fit auto_arima function to AirPassengers dataset\n"
      ]
    },
    {
      "cell_type": "code",
      "execution_count": 6,
      "metadata": {
        "colab": {
          "base_uri": "https://localhost:8080/"
        },
        "id": "cz9vW3-InvlO",
        "outputId": "080915e2-ade4-45d4-d664-760832535c3a"
      },
      "outputs": [
        {
          "output_type": "stream",
          "name": "stdout",
          "text": [
            "Performing stepwise search to minimize aic\n",
            " ARIMA(1,0,1)(0,1,1)[12] intercept   : AIC=inf, Time=5.52 sec\n",
            " ARIMA(0,0,0)(0,1,0)[12] intercept   : AIC=7559.164, Time=0.09 sec\n",
            " ARIMA(1,0,0)(1,1,0)[12] intercept   : AIC=5466.849, Time=1.06 sec\n",
            " ARIMA(0,0,1)(0,1,1)[12] intercept   : AIC=inf, Time=3.09 sec\n",
            " ARIMA(0,0,0)(0,1,0)[12]             : AIC=7557.175, Time=0.08 sec\n",
            " ARIMA(1,0,0)(0,1,0)[12] intercept   : AIC=6137.337, Time=0.14 sec\n",
            " ARIMA(1,0,0)(2,1,0)[12] intercept   : AIC=5446.815, Time=3.46 sec\n",
            " ARIMA(1,0,0)(2,1,1)[12] intercept   : AIC=inf, Time=10.79 sec\n",
            " ARIMA(1,0,0)(1,1,1)[12] intercept   : AIC=inf, Time=5.12 sec\n",
            " ARIMA(0,0,0)(2,1,0)[12] intercept   : AIC=inf, Time=2.90 sec\n",
            " ARIMA(2,0,0)(2,1,0)[12] intercept   : AIC=5390.467, Time=2.81 sec\n",
            " ARIMA(2,0,0)(1,1,0)[12] intercept   : AIC=5404.484, Time=1.56 sec\n",
            " ARIMA(2,0,0)(2,1,1)[12] intercept   : AIC=inf, Time=11.44 sec\n",
            " ARIMA(2,0,0)(1,1,1)[12] intercept   : AIC=inf, Time=3.45 sec\n",
            " ARIMA(3,0,0)(2,1,0)[12] intercept   : AIC=5392.460, Time=6.21 sec\n",
            " ARIMA(2,0,1)(2,1,0)[12] intercept   : AIC=5392.452, Time=4.63 sec\n",
            " ARIMA(1,0,1)(2,1,0)[12] intercept   : AIC=5393.250, Time=3.22 sec\n",
            " ARIMA(3,0,1)(2,1,0)[12] intercept   : AIC=5393.776, Time=14.38 sec\n",
            " ARIMA(2,0,0)(2,1,0)[12]             : AIC=5388.470, Time=3.44 sec\n",
            " ARIMA(2,0,0)(1,1,0)[12]             : AIC=5402.484, Time=0.86 sec\n",
            " ARIMA(2,0,0)(2,1,1)[12]             : AIC=inf, Time=8.95 sec\n",
            " ARIMA(2,0,0)(1,1,1)[12]             : AIC=inf, Time=4.59 sec\n",
            " ARIMA(1,0,0)(2,1,0)[12]             : AIC=5444.830, Time=1.19 sec\n",
            " ARIMA(3,0,0)(2,1,0)[12]             : AIC=5390.463, Time=2.00 sec\n",
            " ARIMA(2,0,1)(2,1,0)[12]             : AIC=5390.455, Time=2.14 sec\n",
            " ARIMA(1,0,1)(2,1,0)[12]             : AIC=5391.252, Time=1.65 sec\n",
            " ARIMA(3,0,1)(2,1,0)[12]             : AIC=5391.779, Time=8.89 sec\n",
            "\n",
            "Best model:  ARIMA(2,0,0)(2,1,0)[12]          \n",
            "Total fit time: 113.738 seconds\n"
          ]
        }
      ],
      "source": [
        "stepwise_fit = auto_arima(df['Vehicles'], start_p = 1, start_q = 1,\n",
        "                          max_p = 3, max_q = 3, m = 12,\n",
        "                          start_P = 0, seasonal = True,\n",
        "                          d = None, D = 1, trace = True,\n",
        "                          error_action ='ignore',\n",
        "                          suppress_warnings = True,\n",
        "                          stepwise = True)\n",
        "\n"
      ]
    },
    {
      "cell_type": "markdown",
      "metadata": {
        "id": "-U8yqyxaoSzI"
      },
      "source": [
        "## To print the summary\n"
      ]
    },
    {
      "cell_type": "code",
      "execution_count": 7,
      "metadata": {
        "id": "VVL7KDMXn9QC",
        "colab": {
          "base_uri": "https://localhost:8080/",
          "height": 465
        },
        "outputId": "9db6c01b-4b39-4363-8555-4fad6909ccf4"
      },
      "outputs": [
        {
          "output_type": "execute_result",
          "data": {
            "text/plain": [
              "<class 'statsmodels.iolib.summary.Summary'>\n",
              "\"\"\"\n",
              "                                     SARIMAX Results                                      \n",
              "==========================================================================================\n",
              "Dep. Variable:                                  y   No. Observations:                 1000\n",
              "Model:             SARIMAX(2, 0, 0)x(2, 1, 0, 12)   Log Likelihood               -2689.235\n",
              "Date:                            Wed, 21 Aug 2024   AIC                           5388.470\n",
              "Time:                                    10:09:16   BIC                           5412.948\n",
              "Sample:                                         0   HQIC                          5397.779\n",
              "                                           - 1000                                         \n",
              "Covariance Type:                              opg                                         \n",
              "==============================================================================\n",
              "                 coef    std err          z      P>|z|      [0.025      0.975]\n",
              "------------------------------------------------------------------------------\n",
              "ar.L1          0.5989      0.028     21.505      0.000       0.544       0.654\n",
              "ar.L2          0.2512      0.028      8.947      0.000       0.196       0.306\n",
              "ar.S.L12      -0.8546      0.028    -30.723      0.000      -0.909      -0.800\n",
              "ar.S.L24      -0.1313      0.032     -4.143      0.000      -0.193      -0.069\n",
              "sigma2        13.3890      0.402     33.316      0.000      12.601      14.177\n",
              "===================================================================================\n",
              "Ljung-Box (L1) (Q):                   0.00   Jarque-Bera (JB):               340.45\n",
              "Prob(Q):                              1.00   Prob(JB):                         0.00\n",
              "Heteroskedasticity (H):               0.82   Skew:                             0.48\n",
              "Prob(H) (two-sided):                  0.07   Kurtosis:                         5.71\n",
              "===================================================================================\n",
              "\n",
              "Warnings:\n",
              "[1] Covariance matrix calculated using the outer product of gradients (complex-step).\n",
              "\"\"\""
            ],
            "text/html": [
              "<table class=\"simpletable\">\n",
              "<caption>SARIMAX Results</caption>\n",
              "<tr>\n",
              "  <th>Dep. Variable:</th>                  <td>y</td>               <th>  No. Observations:  </th>   <td>1000</td>   \n",
              "</tr>\n",
              "<tr>\n",
              "  <th>Model:</th>           <td>SARIMAX(2, 0, 0)x(2, 1, 0, 12)</td> <th>  Log Likelihood     </th> <td>-2689.235</td>\n",
              "</tr>\n",
              "<tr>\n",
              "  <th>Date:</th>                   <td>Wed, 21 Aug 2024</td>        <th>  AIC                </th> <td>5388.470</td> \n",
              "</tr>\n",
              "<tr>\n",
              "  <th>Time:</th>                       <td>10:09:16</td>            <th>  BIC                </th> <td>5412.948</td> \n",
              "</tr>\n",
              "<tr>\n",
              "  <th>Sample:</th>                         <td>0</td>               <th>  HQIC               </th> <td>5397.779</td> \n",
              "</tr>\n",
              "<tr>\n",
              "  <th></th>                             <td> - 1000</td>            <th>                     </th>     <td> </td>    \n",
              "</tr>\n",
              "<tr>\n",
              "  <th>Covariance Type:</th>               <td>opg</td>              <th>                     </th>     <td> </td>    \n",
              "</tr>\n",
              "</table>\n",
              "<table class=\"simpletable\">\n",
              "<tr>\n",
              "      <td></td>        <th>coef</th>     <th>std err</th>      <th>z</th>      <th>P>|z|</th>  <th>[0.025</th>    <th>0.975]</th>  \n",
              "</tr>\n",
              "<tr>\n",
              "  <th>ar.L1</th>    <td>    0.5989</td> <td>    0.028</td> <td>   21.505</td> <td> 0.000</td> <td>    0.544</td> <td>    0.654</td>\n",
              "</tr>\n",
              "<tr>\n",
              "  <th>ar.L2</th>    <td>    0.2512</td> <td>    0.028</td> <td>    8.947</td> <td> 0.000</td> <td>    0.196</td> <td>    0.306</td>\n",
              "</tr>\n",
              "<tr>\n",
              "  <th>ar.S.L12</th> <td>   -0.8546</td> <td>    0.028</td> <td>  -30.723</td> <td> 0.000</td> <td>   -0.909</td> <td>   -0.800</td>\n",
              "</tr>\n",
              "<tr>\n",
              "  <th>ar.S.L24</th> <td>   -0.1313</td> <td>    0.032</td> <td>   -4.143</td> <td> 0.000</td> <td>   -0.193</td> <td>   -0.069</td>\n",
              "</tr>\n",
              "<tr>\n",
              "  <th>sigma2</th>   <td>   13.3890</td> <td>    0.402</td> <td>   33.316</td> <td> 0.000</td> <td>   12.601</td> <td>   14.177</td>\n",
              "</tr>\n",
              "</table>\n",
              "<table class=\"simpletable\">\n",
              "<tr>\n",
              "  <th>Ljung-Box (L1) (Q):</th>     <td>0.00</td> <th>  Jarque-Bera (JB):  </th> <td>340.45</td>\n",
              "</tr>\n",
              "<tr>\n",
              "  <th>Prob(Q):</th>                <td>1.00</td> <th>  Prob(JB):          </th>  <td>0.00</td> \n",
              "</tr>\n",
              "<tr>\n",
              "  <th>Heteroskedasticity (H):</th> <td>0.82</td> <th>  Skew:              </th>  <td>0.48</td> \n",
              "</tr>\n",
              "<tr>\n",
              "  <th>Prob(H) (two-sided):</th>    <td>0.07</td> <th>  Kurtosis:          </th>  <td>5.71</td> \n",
              "</tr>\n",
              "</table><br/><br/>Warnings:<br/>[1] Covariance matrix calculated using the outer product of gradients (complex-step)."
            ],
            "text/latex": "\\begin{center}\n\\begin{tabular}{lclc}\n\\toprule\n\\textbf{Dep. Variable:}          &               y                & \\textbf{  No. Observations:  } &    1000     \\\\\n\\textbf{Model:}                  & SARIMAX(2, 0, 0)x(2, 1, 0, 12) & \\textbf{  Log Likelihood     } & -2689.235   \\\\\n\\textbf{Date:}                   &        Wed, 21 Aug 2024        & \\textbf{  AIC                } &  5388.470   \\\\\n\\textbf{Time:}                   &            10:09:16            & \\textbf{  BIC                } &  5412.948   \\\\\n\\textbf{Sample:}                 &               0                & \\textbf{  HQIC               } &  5397.779   \\\\\n\\textbf{}                        &             - 1000             & \\textbf{                     } &             \\\\\n\\textbf{Covariance Type:}        &              opg               & \\textbf{                     } &             \\\\\n\\bottomrule\n\\end{tabular}\n\\begin{tabular}{lcccccc}\n                  & \\textbf{coef} & \\textbf{std err} & \\textbf{z} & \\textbf{P$> |$z$|$} & \\textbf{[0.025} & \\textbf{0.975]}  \\\\\n\\midrule\n\\textbf{ar.L1}    &       0.5989  &        0.028     &    21.505  &         0.000        &        0.544    &        0.654     \\\\\n\\textbf{ar.L2}    &       0.2512  &        0.028     &     8.947  &         0.000        &        0.196    &        0.306     \\\\\n\\textbf{ar.S.L12} &      -0.8546  &        0.028     &   -30.723  &         0.000        &       -0.909    &       -0.800     \\\\\n\\textbf{ar.S.L24} &      -0.1313  &        0.032     &    -4.143  &         0.000        &       -0.193    &       -0.069     \\\\\n\\textbf{sigma2}   &      13.3890  &        0.402     &    33.316  &         0.000        &       12.601    &       14.177     \\\\\n\\bottomrule\n\\end{tabular}\n\\begin{tabular}{lclc}\n\\textbf{Ljung-Box (L1) (Q):}     & 0.00 & \\textbf{  Jarque-Bera (JB):  } & 340.45  \\\\\n\\textbf{Prob(Q):}                & 1.00 & \\textbf{  Prob(JB):          } &  0.00   \\\\\n\\textbf{Heteroskedasticity (H):} & 0.82 & \\textbf{  Skew:              } &  0.48   \\\\\n\\textbf{Prob(H) (two-sided):}    & 0.07 & \\textbf{  Kurtosis:          } &  5.71   \\\\\n\\bottomrule\n\\end{tabular}\n%\\caption{SARIMAX Results}\n\\end{center}\n\nWarnings: \\newline\n [1] Covariance matrix calculated using the outer product of gradients (complex-step)."
          },
          "metadata": {},
          "execution_count": 7
        }
      ],
      "source": [
        "stepwise_fit.summary()"
      ]
    },
    {
      "cell_type": "markdown",
      "metadata": {
        "id": "gmAEP7Ccof7D"
      },
      "source": [
        "# Fit ARIMA Model"
      ]
    },
    {
      "cell_type": "markdown",
      "metadata": {
        "id": "TKR8rs8nonFv"
      },
      "source": [
        "## Split data into train / test sets\n"
      ]
    },
    {
      "cell_type": "code",
      "execution_count": 8,
      "metadata": {
        "id": "zrfME6QNooRy"
      },
      "outputs": [],
      "source": [
        "train = df.iloc[:len(df)-12]\n",
        "test = df.iloc[len(df)-12:] # set one year(12 months) for testing\n"
      ]
    },
    {
      "cell_type": "markdown",
      "metadata": {
        "id": "4RA4GFRTozIX"
      },
      "source": [
        "## Fit a SARIMAX(0, 1, 1)x(2, 1, 1, 12) on the training set\n"
      ]
    },
    {
      "cell_type": "code",
      "execution_count": 9,
      "metadata": {
        "id": "lCbS2KMPoXQO",
        "colab": {
          "base_uri": "https://localhost:8080/",
          "height": 465
        },
        "outputId": "0c3f89f4-a5c9-47ec-b58d-0a49a112ae4d"
      },
      "outputs": [
        {
          "output_type": "execute_result",
          "data": {
            "text/plain": [
              "<class 'statsmodels.iolib.summary.Summary'>\n",
              "\"\"\"\n",
              "                                     SARIMAX Results                                      \n",
              "==========================================================================================\n",
              "Dep. Variable:                           Vehicles   No. Observations:                  988\n",
              "Model:             SARIMAX(0, 1, 1)x(2, 1, 1, 12)   Log Likelihood               -2551.558\n",
              "Date:                            Wed, 21 Aug 2024   AIC                           5113.116\n",
              "Time:                                    10:09:28   BIC                           5137.528\n",
              "Sample:                                         0   HQIC                          5122.406\n",
              "                                            - 988                                         \n",
              "Covariance Type:                              opg                                         \n",
              "==============================================================================\n",
              "                 coef    std err          z      P>|z|      [0.025      0.975]\n",
              "------------------------------------------------------------------------------\n",
              "ma.L1         -0.3657      0.026    -14.058      0.000      -0.417      -0.315\n",
              "ar.S.L12      -0.2662      0.033     -8.053      0.000      -0.331      -0.201\n",
              "ar.S.L24       0.3007      0.026     11.747      0.000       0.251       0.351\n",
              "ma.S.L12      -0.9999      4.775     -0.209      0.834     -10.358       8.359\n",
              "sigma2        10.3634     49.426      0.210      0.834     -86.510     107.237\n",
              "===================================================================================\n",
              "Ljung-Box (L1) (Q):                   0.09   Jarque-Bera (JB):               698.58\n",
              "Prob(Q):                              0.76   Prob(JB):                         0.00\n",
              "Heteroskedasticity (H):               0.84   Skew:                             0.89\n",
              "Prob(H) (two-sided):                  0.12   Kurtosis:                         6.75\n",
              "===================================================================================\n",
              "\n",
              "Warnings:\n",
              "[1] Covariance matrix calculated using the outer product of gradients (complex-step).\n",
              "\"\"\""
            ],
            "text/html": [
              "<table class=\"simpletable\">\n",
              "<caption>SARIMAX Results</caption>\n",
              "<tr>\n",
              "  <th>Dep. Variable:</th>              <td>Vehicles</td>            <th>  No. Observations:  </th>    <td>988</td>   \n",
              "</tr>\n",
              "<tr>\n",
              "  <th>Model:</th>           <td>SARIMAX(0, 1, 1)x(2, 1, 1, 12)</td> <th>  Log Likelihood     </th> <td>-2551.558</td>\n",
              "</tr>\n",
              "<tr>\n",
              "  <th>Date:</th>                   <td>Wed, 21 Aug 2024</td>        <th>  AIC                </th> <td>5113.116</td> \n",
              "</tr>\n",
              "<tr>\n",
              "  <th>Time:</th>                       <td>10:09:28</td>            <th>  BIC                </th> <td>5137.528</td> \n",
              "</tr>\n",
              "<tr>\n",
              "  <th>Sample:</th>                         <td>0</td>               <th>  HQIC               </th> <td>5122.406</td> \n",
              "</tr>\n",
              "<tr>\n",
              "  <th></th>                             <td> - 988</td>             <th>                     </th>     <td> </td>    \n",
              "</tr>\n",
              "<tr>\n",
              "  <th>Covariance Type:</th>               <td>opg</td>              <th>                     </th>     <td> </td>    \n",
              "</tr>\n",
              "</table>\n",
              "<table class=\"simpletable\">\n",
              "<tr>\n",
              "      <td></td>        <th>coef</th>     <th>std err</th>      <th>z</th>      <th>P>|z|</th>  <th>[0.025</th>    <th>0.975]</th>  \n",
              "</tr>\n",
              "<tr>\n",
              "  <th>ma.L1</th>    <td>   -0.3657</td> <td>    0.026</td> <td>  -14.058</td> <td> 0.000</td> <td>   -0.417</td> <td>   -0.315</td>\n",
              "</tr>\n",
              "<tr>\n",
              "  <th>ar.S.L12</th> <td>   -0.2662</td> <td>    0.033</td> <td>   -8.053</td> <td> 0.000</td> <td>   -0.331</td> <td>   -0.201</td>\n",
              "</tr>\n",
              "<tr>\n",
              "  <th>ar.S.L24</th> <td>    0.3007</td> <td>    0.026</td> <td>   11.747</td> <td> 0.000</td> <td>    0.251</td> <td>    0.351</td>\n",
              "</tr>\n",
              "<tr>\n",
              "  <th>ma.S.L12</th> <td>   -0.9999</td> <td>    4.775</td> <td>   -0.209</td> <td> 0.834</td> <td>  -10.358</td> <td>    8.359</td>\n",
              "</tr>\n",
              "<tr>\n",
              "  <th>sigma2</th>   <td>   10.3634</td> <td>   49.426</td> <td>    0.210</td> <td> 0.834</td> <td>  -86.510</td> <td>  107.237</td>\n",
              "</tr>\n",
              "</table>\n",
              "<table class=\"simpletable\">\n",
              "<tr>\n",
              "  <th>Ljung-Box (L1) (Q):</th>     <td>0.09</td> <th>  Jarque-Bera (JB):  </th> <td>698.58</td>\n",
              "</tr>\n",
              "<tr>\n",
              "  <th>Prob(Q):</th>                <td>0.76</td> <th>  Prob(JB):          </th>  <td>0.00</td> \n",
              "</tr>\n",
              "<tr>\n",
              "  <th>Heteroskedasticity (H):</th> <td>0.84</td> <th>  Skew:              </th>  <td>0.89</td> \n",
              "</tr>\n",
              "<tr>\n",
              "  <th>Prob(H) (two-sided):</th>    <td>0.12</td> <th>  Kurtosis:          </th>  <td>6.75</td> \n",
              "</tr>\n",
              "</table><br/><br/>Warnings:<br/>[1] Covariance matrix calculated using the outer product of gradients (complex-step)."
            ],
            "text/latex": "\\begin{center}\n\\begin{tabular}{lclc}\n\\toprule\n\\textbf{Dep. Variable:}          &            Vehicles            & \\textbf{  No. Observations:  } &    988      \\\\\n\\textbf{Model:}                  & SARIMAX(0, 1, 1)x(2, 1, 1, 12) & \\textbf{  Log Likelihood     } & -2551.558   \\\\\n\\textbf{Date:}                   &        Wed, 21 Aug 2024        & \\textbf{  AIC                } &  5113.116   \\\\\n\\textbf{Time:}                   &            10:09:28            & \\textbf{  BIC                } &  5137.528   \\\\\n\\textbf{Sample:}                 &               0                & \\textbf{  HQIC               } &  5122.406   \\\\\n\\textbf{}                        &              - 988             & \\textbf{                     } &             \\\\\n\\textbf{Covariance Type:}        &              opg               & \\textbf{                     } &             \\\\\n\\bottomrule\n\\end{tabular}\n\\begin{tabular}{lcccccc}\n                  & \\textbf{coef} & \\textbf{std err} & \\textbf{z} & \\textbf{P$> |$z$|$} & \\textbf{[0.025} & \\textbf{0.975]}  \\\\\n\\midrule\n\\textbf{ma.L1}    &      -0.3657  &        0.026     &   -14.058  &         0.000        &       -0.417    &       -0.315     \\\\\n\\textbf{ar.S.L12} &      -0.2662  &        0.033     &    -8.053  &         0.000        &       -0.331    &       -0.201     \\\\\n\\textbf{ar.S.L24} &       0.3007  &        0.026     &    11.747  &         0.000        &        0.251    &        0.351     \\\\\n\\textbf{ma.S.L12} &      -0.9999  &        4.775     &    -0.209  &         0.834        &      -10.358    &        8.359     \\\\\n\\textbf{sigma2}   &      10.3634  &       49.426     &     0.210  &         0.834        &      -86.510    &      107.237     \\\\\n\\bottomrule\n\\end{tabular}\n\\begin{tabular}{lclc}\n\\textbf{Ljung-Box (L1) (Q):}     & 0.09 & \\textbf{  Jarque-Bera (JB):  } & 698.58  \\\\\n\\textbf{Prob(Q):}                & 0.76 & \\textbf{  Prob(JB):          } &  0.00   \\\\\n\\textbf{Heteroskedasticity (H):} & 0.84 & \\textbf{  Skew:              } &  0.89   \\\\\n\\textbf{Prob(H) (two-sided):}    & 0.12 & \\textbf{  Kurtosis:          } &  6.75   \\\\\n\\bottomrule\n\\end{tabular}\n%\\caption{SARIMAX Results}\n\\end{center}\n\nWarnings: \\newline\n [1] Covariance matrix calculated using the outer product of gradients (complex-step)."
          },
          "metadata": {},
          "execution_count": 9
        }
      ],
      "source": [
        "from statsmodels.tsa.statespace.sarimax import SARIMAX\n",
        "\n",
        "model = SARIMAX(train['Vehicles'],\n",
        "                order = (0, 1, 1),\n",
        "                seasonal_order =(2, 1, 1, 12))\n",
        "\n",
        "result = model.fit()\n",
        "result.summary()\n"
      ]
    },
    {
      "cell_type": "markdown",
      "metadata": {
        "id": "_5Lr8auSo_1S"
      },
      "source": [
        "## Predictions of ARIMA Model against the test set"
      ]
    },
    {
      "cell_type": "code",
      "execution_count": 10,
      "metadata": {
        "id": "YwOKVP13o376"
      },
      "outputs": [],
      "source": [
        "start = len(train)\n",
        "end = len(train) + len(test) - 1\n",
        "\n",
        "predictions = result.predict(start, end,\n",
        "                             typ = 'levels').rename(\"Predictions\")\n"
      ]
    },
    {
      "cell_type": "markdown",
      "metadata": {
        "id": "p0kqVgrJpEl2"
      },
      "source": [
        "## plot predictions and actual values\n",
        "\n"
      ]
    },
    {
      "cell_type": "code",
      "execution_count": 11,
      "metadata": {
        "id": "whB0gEkNpLMA",
        "colab": {
          "base_uri": "https://localhost:8080/",
          "height": 447
        },
        "outputId": "25b5bafe-6b3d-4a53-db4d-531dae0afbda"
      },
      "outputs": [
        {
          "output_type": "execute_result",
          "data": {
            "text/plain": [
              "<Axes: >"
            ]
          },
          "metadata": {},
          "execution_count": 11
        },
        {
          "output_type": "display_data",
          "data": {
            "text/plain": [
              "<Figure size 640x480 with 1 Axes>"
            ],
            "image/png": "[encoded data removed]"
          },
          "metadata": {}
        }
      ],
      "source": [
        "predictions.plot(legend = True)\n",
        "test['Vehicles'].plot(legend = True)"
      ]
    },
    {
      "cell_type": "markdown",
      "metadata": {
        "id": "yQzbOm5NpQr_"
      },
      "source": [
        "## Evaluate the model using MSE and RMSE"
      ]
    },
    {
      "cell_type": "code",
      "execution_count": 12,
      "metadata": {
        "id": "JKFO1OIlpLby",
        "colab": {
          "base_uri": "https://localhost:8080/"
        },
        "outputId": "54fed212-222a-47ba-ae70-2e29127f7cb6"
      },
      "outputs": [
        {
          "output_type": "execute_result",
          "data": {
            "text/plain": [
              "31.860233727567792"
            ]
          },
          "metadata": {},
          "execution_count": 12
        }
      ],
      "source": [
        "from sklearn.metrics import mean_squared_error\n",
        "from statsmodels.tools.eval_measures import rmse\n",
        "rmse(test[\"Vehicles\"], predictions)\n",
        "mean_squared_error(test[\"Vehicles\"], predictions)\n"
      ]
    },
    {
      "cell_type": "markdown",
      "metadata": {
        "id": "vNa2uJ9FpYI7"
      },
      "source": [
        "#**Well Done :)**"
      ]
    }
  ],
  "metadata": {
    "accelerator": "GPU",
    "colab": {
      "gpuType": "T4",
      "provenance": []
    },
    "kernelspec": {
      "display_name": "Python 3",
      "name": "python3"
    },
    "language_info": {
      "codemirror_mode": {
        "name": "ipython",
        "version": 3
      },
      "file_extension": ".py",
      "mimetype": "text/x-python",
      "name": "python",
      "nbconvert_exporter": "python",
      "pygments_lexer": "ipython3",
      "version": "3.12.4"
    }
  },
  "nbformat": 4,
  "nbformat_minor": 0
}